{
 "cells": [
  {
   "cell_type": "code",
   "execution_count": 68,
   "metadata": {
    "collapsed": true
   },
   "outputs": [
    {
     "data": {
      "text/plain": "<kafka.producer.kafka.KafkaProducer at 0x126dafd90>"
     },
     "execution_count": 68,
     "metadata": {},
     "output_type": "execute_result"
    }
   ],
   "source": [
    "from time import sleep\n",
    "from json import dumps\n",
    "from kafka import KafkaProducer\n",
    "\n",
    "DER_TOPIC = 'der_item'\n",
    "\n",
    "producer = KafkaProducer(bootstrap_servers=['localhost:9092'],\n",
    "                         value_serializer=lambda x: dumps(x).encode('utf-8'))\n",
    "producer"
   ]
  },
  {
   "cell_type": "code",
   "execution_count": 69,
   "outputs": [],
   "source": [
    "import os\n",
    "from time import strftime\n",
    "import datetime\n",
    "from faker import Faker\n",
    "from faker.providers import BaseProvider\n",
    "import random\n",
    "import csv\n",
    "\n",
    "\n",
    "class GenreProvider(BaseProvider):\n",
    "    def movie_genre(self):\n",
    "        return random.choice(['Documentary', 'Thriller', 'Mystery', 'Horror', 'Action', 'Comedy', 'Drama', 'Romance'])\n",
    "\n",
    "\n",
    "class LanguageProvider(BaseProvider):\n",
    "    def language(self):\n",
    "        return random.choice(['English', 'Chinese', 'Italian', 'Spanish', 'Hindi', 'Japanese'])\n",
    "\n",
    "\n",
    "fake = Faker()\n",
    "\n",
    "fake.add_provider(GenreProvider)\n",
    "fake.add_provider(LanguageProvider)\n",
    "\n",
    "\n",
    "def get_movie_name():\n",
    "    words = fake.words()\n",
    "    capitalized_words = list(map(str.capitalize, words))\n",
    "    return ' '.join(capitalized_words)\n",
    "\n",
    "\n",
    "def get_movie_date():\n",
    "    return fake.date_time_this_decade().strftime(\"%B %d, %Y\")\n",
    "\n",
    "\n",
    "def get_movie_len():\n",
    "    return random.randrange(50, 150)\n",
    "\n",
    "\n",
    "def get_movie_rating():\n",
    "    return round(random.uniform(1.0, 5.0), 1)\n",
    "\n",
    "\n",
    "def generate_movie():\n",
    "    return [get_movie_name(), fake.movie_genre(), get_movie_date(), get_movie_len(), get_movie_rating(),\n",
    "            fake.language()]\n",
    "\n",
    "\n",
    "def write_csv(file_name='movie_data.csv', folder='data', row_count=10):\n",
    "    file_path = os.path.join(folder, file_name)\n",
    "    with open(file_path, 'w') as csvfile:\n",
    "        writer = csv.writer(csvfile)\n",
    "        writer.writerow(['Title', 'Genre', 'Premiere', 'Runtime', 'IMDB_Score', 'Language'])\n",
    "        for n in range(1, row_count):\n",
    "            writer.writerow(generate_movie())\n",
    "    return file_path"
   ],
   "metadata": {
    "collapsed": false
   }
  },
  {
   "cell_type": "code",
   "execution_count": 70,
   "outputs": [
    {
     "data": {
      "text/plain": "'stock-office-trouble.csv'"
     },
     "execution_count": 70,
     "metadata": {},
     "output_type": "execute_result"
    }
   ],
   "source": [
    "def generate_fake_fn(word_count=3):\n",
    "    f = '-'.join(fake.words(word_count))\n",
    "    return f'{f}.csv'\n",
    "\n",
    "\n",
    "generate_fake_fn()"
   ],
   "metadata": {
    "collapsed": false
   }
  },
  {
   "cell_type": "code",
   "execution_count": 71,
   "outputs": [],
   "source": [
    "csv_files_topic = 'csv_files'"
   ],
   "metadata": {
    "collapsed": false
   }
  },
  {
   "cell_type": "code",
   "execution_count": 72,
   "outputs": [
    {
     "data": {
      "text/plain": "'data/movie_data.csv'"
     },
     "execution_count": 72,
     "metadata": {},
     "output_type": "execute_result"
    }
   ],
   "source": [
    "write_csv()"
   ],
   "metadata": {
    "collapsed": false
   }
  },
  {
   "cell_type": "code",
   "execution_count": 73,
   "outputs": [
    {
     "name": "stdout",
     "output_type": "stream",
     "text": [
      ".................."
     ]
    }
   ],
   "source": [
    "\n",
    "for i in range(1, 10):\n",
    "    fn = generate_fake_fn()\n",
    "    fp = write_csv(file_name=fn, row_count=5)\n",
    "    data = {'filename': fp}\n",
    "    producer.send(csv_files_topic, value=data)\n",
    "    print('.', end='.')"
   ],
   "metadata": {
    "collapsed": false
   }
  },
  {
   "cell_type": "code",
   "execution_count": null,
   "outputs": [
    {
     "name": "stdout",
     "output_type": "stream",
     "text": [
      "{'index': 0, 'Title': 'Through Vote Bag', 'Genre': 'Drama', 'Premiere': 'January 02, 2020', 'Runtime': 128, 'IMDB_Score': 3.5, 'Language': 'English'}\n",
      "{'index': 1, 'Title': 'Short Newspaper Week', 'Genre': 'Mystery', 'Premiere': 'March 21, 2022', 'Runtime': 103, 'IMDB_Score': 3.9, 'Language': 'Italian'}\n",
      "{'index': 2, 'Title': 'Without Throughout Car', 'Genre': 'Horror', 'Premiere': 'July 19, 2021', 'Runtime': 62, 'IMDB_Score': 2.1, 'Language': 'English'}\n",
      "{'index': 3, 'Title': 'Make Military Song', 'Genre': 'Documentary', 'Premiere': 'April 26, 2021', 'Runtime': 75, 'IMDB_Score': 4.2, 'Language': 'English'}\n",
      "..{'index': 0, 'Title': 'Too Cost Surface', 'Genre': 'Action', 'Premiere': 'March 31, 2020', 'Runtime': 70, 'IMDB_Score': 5.0, 'Language': 'English'}\n",
      "{'index': 1, 'Title': 'Indicate Scientist Wide', 'Genre': 'Action', 'Premiere': 'October 06, 2021', 'Runtime': 116, 'IMDB_Score': 4.9, 'Language': 'English'}\n",
      "{'index': 2, 'Title': 'Forward Project Exactly', 'Genre': 'Documentary', 'Premiere': 'October 30, 2021', 'Runtime': 98, 'IMDB_Score': 2.4, 'Language': 'Japanese'}\n",
      "{'index': 3, 'Title': 'Player Sure Explain', 'Genre': 'Documentary', 'Premiere': 'March 07, 2022', 'Runtime': 119, 'IMDB_Score': 3.9, 'Language': 'Japanese'}\n",
      "..{'index': 0, 'Title': 'Accept Specific Everyone', 'Genre': 'Documentary', 'Premiere': 'November 27, 2021', 'Runtime': 58, 'IMDB_Score': 1.0, 'Language': 'Japanese'}\n",
      "{'index': 1, 'Title': 'Bill Certain Interesting', 'Genre': 'Horror', 'Premiere': 'May 27, 2020', 'Runtime': 84, 'IMDB_Score': 4.8, 'Language': 'Japanese'}\n",
      "{'index': 2, 'Title': 'Third Occur President', 'Genre': 'Action', 'Premiere': 'February 10, 2020', 'Runtime': 82, 'IMDB_Score': 3.6, 'Language': 'Spanish'}\n",
      "{'index': 3, 'Title': 'Ahead Build Yourself', 'Genre': 'Documentary', 'Premiere': 'February 26, 2020', 'Runtime': 61, 'IMDB_Score': 4.6, 'Language': 'Japanese'}\n",
      "..{'index': 0, 'Title': 'Fly Cell Card', 'Genre': 'Comedy', 'Premiere': 'October 23, 2021', 'Runtime': 63, 'IMDB_Score': 2.5, 'Language': 'Spanish'}\n",
      "{'index': 1, 'Title': 'Family Rock Artist', 'Genre': 'Action', 'Premiere': 'October 23, 2021', 'Runtime': 133, 'IMDB_Score': 4.6, 'Language': 'Japanese'}\n",
      "{'index': 2, 'Title': 'So Republican Benefit', 'Genre': 'Romance', 'Premiere': 'December 26, 2022', 'Runtime': 124, 'IMDB_Score': 2.4, 'Language': 'Spanish'}\n",
      "{'index': 3, 'Title': 'Door Between My', 'Genre': 'Action', 'Premiere': 'September 24, 2022', 'Runtime': 139, 'IMDB_Score': 3.7, 'Language': 'Italian'}\n",
      "..{'index': 0, 'Title': 'Energy Animal Commercial', 'Genre': 'Documentary', 'Premiere': 'November 01, 2022', 'Runtime': 91, 'IMDB_Score': 2.2, 'Language': 'Chinese'}\n",
      "{'index': 1, 'Title': 'Provide Me After', 'Genre': 'Drama', 'Premiere': 'September 29, 2020', 'Runtime': 67, 'IMDB_Score': 4.1, 'Language': 'Spanish'}\n",
      "{'index': 2, 'Title': 'He It What', 'Genre': 'Horror', 'Premiere': 'September 28, 2022', 'Runtime': 107, 'IMDB_Score': 2.2, 'Language': 'Italian'}\n",
      "{'index': 3, 'Title': 'Factor Seek However', 'Genre': 'Action', 'Premiere': 'April 10, 2021', 'Runtime': 86, 'IMDB_Score': 3.2, 'Language': 'Chinese'}\n",
      "..{'index': 0, 'Title': 'Fire Wind Event', 'Genre': 'Drama', 'Premiere': 'January 17, 2020', 'Runtime': 107, 'IMDB_Score': 2.1, 'Language': 'English'}\n",
      "{'index': 1, 'Title': 'Tend Employee Professional', 'Genre': 'Documentary', 'Premiere': 'April 03, 2021', 'Runtime': 63, 'IMDB_Score': 3.3, 'Language': 'Spanish'}\n",
      "{'index': 2, 'Title': 'Knowledge Degree Relate', 'Genre': 'Horror', 'Premiere': 'March 22, 2020', 'Runtime': 148, 'IMDB_Score': 2.5, 'Language': 'Hindi'}\n",
      "{'index': 3, 'Title': 'Vote Significant Time', 'Genre': 'Drama', 'Premiere': 'March 27, 2021', 'Runtime': 136, 'IMDB_Score': 1.1, 'Language': 'Chinese'}\n",
      "..{'index': 0, 'Title': 'Coach Box Land', 'Genre': 'Thriller', 'Premiere': 'June 29, 2020', 'Runtime': 128, 'IMDB_Score': 1.5, 'Language': 'Italian'}\n",
      "{'index': 1, 'Title': 'Then Per Technology', 'Genre': 'Drama', 'Premiere': 'July 26, 2020', 'Runtime': 93, 'IMDB_Score': 4.8, 'Language': 'Hindi'}\n",
      "{'index': 2, 'Title': 'Instead Tell Feeling', 'Genre': 'Mystery', 'Premiere': 'July 13, 2020', 'Runtime': 116, 'IMDB_Score': 4.1, 'Language': 'Japanese'}\n",
      "{'index': 3, 'Title': 'Always Cold Until', 'Genre': 'Romance', 'Premiere': 'January 15, 2020', 'Runtime': 110, 'IMDB_Score': 1.6, 'Language': 'Spanish'}\n",
      "..{'index': 0, 'Title': 'Time Set Land', 'Genre': 'Action', 'Premiere': 'May 12, 2020', 'Runtime': 132, 'IMDB_Score': 1.4, 'Language': 'Spanish'}\n",
      "{'index': 1, 'Title': 'Word Line Like', 'Genre': 'Action', 'Premiere': 'December 30, 2022', 'Runtime': 75, 'IMDB_Score': 2.0, 'Language': 'Spanish'}\n",
      "{'index': 2, 'Title': 'State Throw Power', 'Genre': 'Comedy', 'Premiere': 'May 28, 2022', 'Runtime': 112, 'IMDB_Score': 1.2, 'Language': 'Italian'}\n",
      "{'index': 3, 'Title': 'Ready Thought Firm', 'Genre': 'Drama', 'Premiere': 'January 06, 2020', 'Runtime': 67, 'IMDB_Score': 2.9, 'Language': 'Hindi'}\n",
      "..{'index': 0, 'Title': 'Night Grow Picture', 'Genre': 'Comedy', 'Premiere': 'May 19, 2020', 'Runtime': 58, 'IMDB_Score': 3.4, 'Language': 'Japanese'}\n",
      "{'index': 1, 'Title': 'Allow School Firm', 'Genre': 'Thriller', 'Premiere': 'June 24, 2021', 'Runtime': 95, 'IMDB_Score': 4.0, 'Language': 'Japanese'}\n",
      "{'index': 2, 'Title': 'Green Always Available', 'Genre': 'Comedy', 'Premiere': 'March 24, 2021', 'Runtime': 121, 'IMDB_Score': 1.8, 'Language': 'English'}\n",
      "{'index': 3, 'Title': 'Voice Want Mission', 'Genre': 'Comedy', 'Premiere': 'February 23, 2020', 'Runtime': 80, 'IMDB_Score': 4.3, 'Language': 'Italian'}\n",
      "..{'index': 0, 'Title': 'Use Choose Body', 'Genre': 'Documentary', 'Premiere': 'March 11, 2021', 'Runtime': 77, 'IMDB_Score': 3.2, 'Language': 'Chinese'}\n",
      "{'index': 1, 'Title': 'Close Nor Capital', 'Genre': 'Action', 'Premiere': 'June 05, 2021', 'Runtime': 115, 'IMDB_Score': 4.4, 'Language': 'Japanese'}\n",
      "{'index': 2, 'Title': 'Sell Former Cut', 'Genre': 'Thriller', 'Premiere': 'January 06, 2021', 'Runtime': 57, 'IMDB_Score': 1.8, 'Language': 'Chinese'}\n",
      "{'index': 3, 'Title': 'Purpose Start Change', 'Genre': 'Horror', 'Premiere': 'April 23, 2020', 'Runtime': 139, 'IMDB_Score': 1.3, 'Language': 'Chinese'}\n",
      "..{'index': 0, 'Title': 'Team Consider Whole', 'Genre': 'Romance', 'Premiere': 'August 13, 2021', 'Runtime': 62, 'IMDB_Score': 1.4, 'Language': 'Italian'}\n",
      "{'index': 1, 'Title': 'Bar Check Subject', 'Genre': 'Thriller', 'Premiere': 'December 21, 2020', 'Runtime': 133, 'IMDB_Score': 3.0, 'Language': 'Hindi'}\n",
      "{'index': 2, 'Title': 'Despite Include Very', 'Genre': 'Action', 'Premiere': 'August 29, 2022', 'Runtime': 81, 'IMDB_Score': 2.3, 'Language': 'English'}\n",
      "{'index': 3, 'Title': 'Husband Deal Do', 'Genre': 'Action', 'Premiere': 'October 27, 2020', 'Runtime': 108, 'IMDB_Score': 1.2, 'Language': 'Spanish'}\n",
      "..{'index': 0, 'Title': 'Operation Candidate Mrs', 'Genre': 'Comedy', 'Premiere': 'September 28, 2022', 'Runtime': 52, 'IMDB_Score': 1.6, 'Language': 'Japanese'}\n",
      "{'index': 1, 'Title': 'Claim Personal Task', 'Genre': 'Action', 'Premiere': 'March 31, 2020', 'Runtime': 142, 'IMDB_Score': 2.3, 'Language': 'English'}\n",
      "{'index': 2, 'Title': 'Four Focus Congress', 'Genre': 'Mystery', 'Premiere': 'July 26, 2020', 'Runtime': 54, 'IMDB_Score': 4.1, 'Language': 'Italian'}\n",
      "{'index': 3, 'Title': 'Seem Support Anyone', 'Genre': 'Documentary', 'Premiere': 'August 26, 2021', 'Runtime': 101, 'IMDB_Score': 2.9, 'Language': 'Hindi'}\n",
      "..{'index': 0, 'Title': 'Person History Question', 'Genre': 'Thriller', 'Premiere': 'October 25, 2022', 'Runtime': 76, 'IMDB_Score': 1.4, 'Language': 'English'}\n",
      "{'index': 1, 'Title': 'Who Behind Room', 'Genre': 'Documentary', 'Premiere': 'December 26, 2020', 'Runtime': 118, 'IMDB_Score': 3.4, 'Language': 'Chinese'}\n",
      "{'index': 2, 'Title': 'Prepare Tonight Fear', 'Genre': 'Thriller', 'Premiere': 'June 18, 2020', 'Runtime': 88, 'IMDB_Score': 3.8, 'Language': 'Chinese'}\n",
      "{'index': 3, 'Title': 'Name Staff Use', 'Genre': 'Mystery', 'Premiere': 'August 31, 2022', 'Runtime': 140, 'IMDB_Score': 2.2, 'Language': 'Italian'}\n",
      "..{'index': 0, 'Title': 'Property Remain Organization', 'Genre': 'Romance', 'Premiere': 'April 29, 2020', 'Runtime': 80, 'IMDB_Score': 1.7, 'Language': 'English'}\n",
      "{'index': 1, 'Title': 'Yourself Forget Probably', 'Genre': 'Documentary', 'Premiere': 'August 23, 2022', 'Runtime': 76, 'IMDB_Score': 2.8, 'Language': 'Italian'}\n",
      "{'index': 2, 'Title': 'Picture Behind Whatever', 'Genre': 'Documentary', 'Premiere': 'June 07, 2021', 'Runtime': 61, 'IMDB_Score': 1.2, 'Language': 'Italian'}\n",
      "{'index': 3, 'Title': 'Quickly Ready Live', 'Genre': 'Comedy', 'Premiere': 'July 11, 2021', 'Runtime': 75, 'IMDB_Score': 4.7, 'Language': 'Italian'}\n",
      "..{'index': 0, 'Title': 'Continue Couple Edge', 'Genre': 'Drama', 'Premiere': 'February 20, 2021', 'Runtime': 145, 'IMDB_Score': 1.2, 'Language': 'Hindi'}\n",
      "{'index': 1, 'Title': 'Speech Board Similar', 'Genre': 'Comedy', 'Premiere': 'August 24, 2022', 'Runtime': 90, 'IMDB_Score': 4.2, 'Language': 'Hindi'}\n",
      "{'index': 2, 'Title': 'Main Cover Fish', 'Genre': 'Mystery', 'Premiere': 'August 09, 2020', 'Runtime': 119, 'IMDB_Score': 4.7, 'Language': 'English'}\n",
      "{'index': 3, 'Title': 'Benefit Himself Option', 'Genre': 'Thriller', 'Premiere': 'September 01, 2022', 'Runtime': 79, 'IMDB_Score': 4.5, 'Language': 'Chinese'}\n",
      "..{'index': 0, 'Title': 'Thank Factor Pass', 'Genre': 'Documentary', 'Premiere': 'August 25, 2020', 'Runtime': 80, 'IMDB_Score': 3.6, 'Language': 'Italian'}\n",
      "{'index': 1, 'Title': 'Mention Player Discussion', 'Genre': 'Drama', 'Premiere': 'May 25, 2020', 'Runtime': 89, 'IMDB_Score': 4.9, 'Language': 'Italian'}\n",
      "{'index': 2, 'Title': 'Then Hear Performance', 'Genre': 'Thriller', 'Premiere': 'September 23, 2021', 'Runtime': 63, 'IMDB_Score': 4.5, 'Language': 'Italian'}\n",
      "{'index': 3, 'Title': 'Kind Be Sign', 'Genre': 'Romance', 'Premiere': 'March 01, 2021', 'Runtime': 125, 'IMDB_Score': 2.0, 'Language': 'Hindi'}\n",
      "..{'index': 0, 'Title': 'Now Believe Let', 'Genre': 'Comedy', 'Premiere': 'June 20, 2021', 'Runtime': 51, 'IMDB_Score': 2.7, 'Language': 'Hindi'}\n",
      "{'index': 1, 'Title': 'Attention Method Maybe', 'Genre': 'Documentary', 'Premiere': 'November 25, 2020', 'Runtime': 111, 'IMDB_Score': 3.2, 'Language': 'Hindi'}\n",
      "{'index': 2, 'Title': 'Tough Decision Kitchen', 'Genre': 'Action', 'Premiere': 'November 04, 2021', 'Runtime': 92, 'IMDB_Score': 1.1, 'Language': 'Japanese'}\n",
      "{'index': 3, 'Title': 'Design Town Store', 'Genre': 'Comedy', 'Premiere': 'September 12, 2021', 'Runtime': 110, 'IMDB_Score': 1.4, 'Language': 'Chinese'}\n",
      "..{'index': 0, 'Title': 'Remain Hear Agent', 'Genre': 'Romance', 'Premiere': 'December 20, 2022', 'Runtime': 128, 'IMDB_Score': 1.9, 'Language': 'English'}\n",
      "{'index': 1, 'Title': 'Stage Consumer Alone', 'Genre': 'Action', 'Premiere': 'September 25, 2022', 'Runtime': 140, 'IMDB_Score': 2.2, 'Language': 'Hindi'}\n",
      "{'index': 2, 'Title': 'Land Like Assume', 'Genre': 'Mystery', 'Premiere': 'October 15, 2022', 'Runtime': 138, 'IMDB_Score': 2.9, 'Language': 'Hindi'}\n",
      "{'index': 3, 'Title': 'Citizen Statement Them', 'Genre': 'Comedy', 'Premiere': 'August 25, 2022', 'Runtime': 53, 'IMDB_Score': 3.0, 'Language': 'Japanese'}\n",
      "..{'index': 0, 'Title': 'Interesting List Of', 'Genre': 'Romance', 'Premiere': 'July 31, 2022', 'Runtime': 115, 'IMDB_Score': 3.8, 'Language': 'Hindi'}\n",
      "{'index': 1, 'Title': 'Sit Trade Reality', 'Genre': 'Documentary', 'Premiere': 'April 24, 2021', 'Runtime': 55, 'IMDB_Score': 2.0, 'Language': 'Hindi'}\n",
      "{'index': 2, 'Title': 'Wall Chair Close', 'Genre': 'Drama', 'Premiere': 'June 12, 2022', 'Runtime': 68, 'IMDB_Score': 2.6, 'Language': 'Spanish'}\n",
      "{'index': 3, 'Title': 'Pattern Avoid Same', 'Genre': 'Mystery', 'Premiere': 'March 06, 2021', 'Runtime': 102, 'IMDB_Score': 3.8, 'Language': 'Spanish'}\n",
      "..{'index': 0, 'Title': 'Man Anything Able', 'Genre': 'Romance', 'Premiere': 'July 08, 2022', 'Runtime': 145, 'IMDB_Score': 3.4, 'Language': 'English'}\n",
      "{'index': 1, 'Title': 'Either Voice End', 'Genre': 'Romance', 'Premiere': 'July 10, 2021', 'Runtime': 96, 'IMDB_Score': 4.7, 'Language': 'Japanese'}\n",
      "{'index': 2, 'Title': 'Agency Admit Center', 'Genre': 'Romance', 'Premiere': 'January 10, 2023', 'Runtime': 76, 'IMDB_Score': 2.8, 'Language': 'Hindi'}\n",
      "{'index': 3, 'Title': 'Kid State Guy', 'Genre': 'Documentary', 'Premiere': 'June 01, 2021', 'Runtime': 79, 'IMDB_Score': 3.0, 'Language': 'Spanish'}\n",
      "..{'index': 0, 'Title': 'Sit City Behind', 'Genre': 'Horror', 'Premiere': 'October 30, 2020', 'Runtime': 59, 'IMDB_Score': 4.7, 'Language': 'Japanese'}\n",
      "{'index': 1, 'Title': 'Out Do Light', 'Genre': 'Action', 'Premiere': 'July 02, 2021', 'Runtime': 147, 'IMDB_Score': 2.1, 'Language': 'Japanese'}\n",
      "{'index': 2, 'Title': 'Indicate Human Range', 'Genre': 'Mystery', 'Premiere': 'June 05, 2021', 'Runtime': 104, 'IMDB_Score': 3.7, 'Language': 'Japanese'}\n",
      "{'index': 3, 'Title': 'Know Total Play', 'Genre': 'Thriller', 'Premiere': 'September 13, 2020', 'Runtime': 83, 'IMDB_Score': 3.5, 'Language': 'Hindi'}\n",
      "..{'index': 0, 'Title': 'Study Hair High', 'Genre': 'Romance', 'Premiere': 'August 08, 2021', 'Runtime': 67, 'IMDB_Score': 2.6, 'Language': 'English'}\n",
      "{'index': 1, 'Title': 'Provide Position Case', 'Genre': 'Drama', 'Premiere': 'February 04, 2020', 'Runtime': 68, 'IMDB_Score': 2.0, 'Language': 'English'}\n",
      "{'index': 2, 'Title': 'Yet Same Career', 'Genre': 'Romance', 'Premiere': 'October 25, 2022', 'Runtime': 127, 'IMDB_Score': 3.8, 'Language': 'Japanese'}\n",
      "{'index': 3, 'Title': 'List Data Nearly', 'Genre': 'Drama', 'Premiere': 'March 01, 2020', 'Runtime': 93, 'IMDB_Score': 2.1, 'Language': 'Japanese'}\n",
      "..{'index': 0, 'Title': 'Place As Tonight', 'Genre': 'Horror', 'Premiere': 'July 08, 2021', 'Runtime': 98, 'IMDB_Score': 1.6, 'Language': 'Spanish'}\n",
      "{'index': 1, 'Title': 'Moment Bed Avoid', 'Genre': 'Comedy', 'Premiere': 'June 09, 2022', 'Runtime': 97, 'IMDB_Score': 3.1, 'Language': 'Chinese'}\n",
      "{'index': 2, 'Title': 'Purpose Employee Mean', 'Genre': 'Documentary', 'Premiere': 'November 03, 2020', 'Runtime': 55, 'IMDB_Score': 3.4, 'Language': 'Hindi'}\n",
      "{'index': 3, 'Title': 'Majority Can Practice', 'Genre': 'Comedy', 'Premiere': 'July 10, 2020', 'Runtime': 108, 'IMDB_Score': 2.3, 'Language': 'Japanese'}\n",
      "..{'index': 0, 'Title': 'Threat Only After', 'Genre': 'Comedy', 'Premiere': 'July 26, 2020', 'Runtime': 109, 'IMDB_Score': 3.8, 'Language': 'Italian'}\n",
      "{'index': 1, 'Title': 'Knowledge Health Imagine', 'Genre': 'Thriller', 'Premiere': 'March 09, 2020', 'Runtime': 68, 'IMDB_Score': 4.4, 'Language': 'Chinese'}\n",
      "{'index': 2, 'Title': 'Really Could Produce', 'Genre': 'Drama', 'Premiere': 'January 06, 2022', 'Runtime': 76, 'IMDB_Score': 5.0, 'Language': 'Japanese'}\n",
      "{'index': 3, 'Title': 'List Likely Require', 'Genre': 'Documentary', 'Premiere': 'December 29, 2021', 'Runtime': 114, 'IMDB_Score': 4.2, 'Language': 'Japanese'}\n",
      "..{'index': 0, 'Title': 'Type Kitchen Eye', 'Genre': 'Romance', 'Premiere': 'June 16, 2021', 'Runtime': 71, 'IMDB_Score': 4.1, 'Language': 'Hindi'}\n",
      "{'index': 1, 'Title': 'President Him Ahead', 'Genre': 'Mystery', 'Premiere': 'March 23, 2021', 'Runtime': 105, 'IMDB_Score': 3.1, 'Language': 'Italian'}\n",
      "{'index': 2, 'Title': 'Trouble Son Partner', 'Genre': 'Action', 'Premiere': 'August 19, 2022', 'Runtime': 52, 'IMDB_Score': 1.0, 'Language': 'English'}\n",
      "{'index': 3, 'Title': 'Safe Edge Left', 'Genre': 'Horror', 'Premiere': 'December 03, 2021', 'Runtime': 124, 'IMDB_Score': 1.4, 'Language': 'Japanese'}\n",
      "..{'index': 0, 'Title': 'Yeah Doctor Avoid', 'Genre': 'Romance', 'Premiere': 'August 08, 2021', 'Runtime': 105, 'IMDB_Score': 1.3, 'Language': 'English'}\n",
      "{'index': 1, 'Title': 'Pm Say Create', 'Genre': 'Mystery', 'Premiere': 'July 24, 2022', 'Runtime': 116, 'IMDB_Score': 4.2, 'Language': 'Japanese'}\n",
      "{'index': 2, 'Title': 'Oil Whom Ask', 'Genre': 'Horror', 'Premiere': 'June 07, 2021', 'Runtime': 111, 'IMDB_Score': 1.8, 'Language': 'English'}\n",
      "{'index': 3, 'Title': 'Close Affect Near', 'Genre': 'Horror', 'Premiere': 'June 18, 2020', 'Runtime': 66, 'IMDB_Score': 3.6, 'Language': 'Hindi'}\n",
      "..{'index': 0, 'Title': 'Write Sound Into', 'Genre': 'Action', 'Premiere': 'August 16, 2020', 'Runtime': 128, 'IMDB_Score': 4.0, 'Language': 'Hindi'}\n",
      "{'index': 1, 'Title': 'Number Listen Add', 'Genre': 'Drama', 'Premiere': 'January 08, 2022', 'Runtime': 146, 'IMDB_Score': 2.9, 'Language': 'English'}\n",
      "{'index': 2, 'Title': 'Note Region Professional', 'Genre': 'Documentary', 'Premiere': 'December 04, 2022', 'Runtime': 149, 'IMDB_Score': 1.9, 'Language': 'Chinese'}\n",
      "{'index': 3, 'Title': 'Apply Wrong Go', 'Genre': 'Romance', 'Premiere': 'March 04, 2020', 'Runtime': 78, 'IMDB_Score': 3.1, 'Language': 'Hindi'}\n",
      "..{'index': 0, 'Title': 'Popular Real Product', 'Genre': 'Drama', 'Premiere': 'September 10, 2020', 'Runtime': 109, 'IMDB_Score': 4.1, 'Language': 'Italian'}\n",
      "{'index': 1, 'Title': 'Full Range Join', 'Genre': 'Horror', 'Premiere': 'March 23, 2020', 'Runtime': 117, 'IMDB_Score': 2.1, 'Language': 'Spanish'}\n",
      "{'index': 2, 'Title': 'Design Million Government', 'Genre': 'Thriller', 'Premiere': 'November 21, 2021', 'Runtime': 78, 'IMDB_Score': 4.7, 'Language': 'Japanese'}\n",
      "{'index': 3, 'Title': 'Measure Professional Catch', 'Genre': 'Horror', 'Premiere': 'February 21, 2021', 'Runtime': 111, 'IMDB_Score': 2.3, 'Language': 'Japanese'}\n",
      "..{'index': 0, 'Title': 'Huge Once Officer', 'Genre': 'Documentary', 'Premiere': 'March 28, 2021', 'Runtime': 91, 'IMDB_Score': 4.8, 'Language': 'Italian'}\n",
      "{'index': 1, 'Title': 'Book Life Actually', 'Genre': 'Documentary', 'Premiere': 'September 09, 2021', 'Runtime': 103, 'IMDB_Score': 2.8, 'Language': 'Spanish'}\n",
      "{'index': 2, 'Title': 'Budget Wait Think', 'Genre': 'Action', 'Premiere': 'January 18, 2020', 'Runtime': 52, 'IMDB_Score': 2.9, 'Language': 'English'}\n",
      "{'index': 3, 'Title': 'Her Build Simple', 'Genre': 'Drama', 'Premiere': 'March 26, 2020', 'Runtime': 53, 'IMDB_Score': 3.2, 'Language': 'Spanish'}\n",
      "..{'index': 0, 'Title': 'Provide We Now', 'Genre': 'Comedy', 'Premiere': 'August 03, 2020', 'Runtime': 137, 'IMDB_Score': 4.7, 'Language': 'Italian'}\n",
      "{'index': 1, 'Title': 'From Include Court', 'Genre': 'Romance', 'Premiere': 'March 29, 2022', 'Runtime': 97, 'IMDB_Score': 3.1, 'Language': 'English'}\n",
      "{'index': 2, 'Title': 'Pay House Challenge', 'Genre': 'Thriller', 'Premiere': 'June 13, 2022', 'Runtime': 59, 'IMDB_Score': 1.4, 'Language': 'Japanese'}\n",
      "{'index': 3, 'Title': 'Gas Risk Court', 'Genre': 'Horror', 'Premiere': 'February 09, 2021', 'Runtime': 51, 'IMDB_Score': 1.2, 'Language': 'Chinese'}\n",
      "..{'index': 0, 'Title': 'Watch Main Since', 'Genre': 'Drama', 'Premiere': 'January 22, 2021', 'Runtime': 92, 'IMDB_Score': 4.5, 'Language': 'Chinese'}\n",
      "{'index': 1, 'Title': 'Budget Event Foot', 'Genre': 'Horror', 'Premiere': 'August 08, 2021', 'Runtime': 149, 'IMDB_Score': 5.0, 'Language': 'Japanese'}\n",
      "{'index': 2, 'Title': 'Fight Everything Environment', 'Genre': 'Thriller', 'Premiere': 'May 24, 2022', 'Runtime': 73, 'IMDB_Score': 2.9, 'Language': 'Italian'}\n",
      "{'index': 3, 'Title': 'Husband Continue Order', 'Genre': 'Mystery', 'Premiere': 'November 17, 2022', 'Runtime': 88, 'IMDB_Score': 1.7, 'Language': 'Hindi'}\n",
      "..{'index': 0, 'Title': 'Cell Mission Job', 'Genre': 'Mystery', 'Premiere': 'November 03, 2021', 'Runtime': 84, 'IMDB_Score': 2.2, 'Language': 'Spanish'}\n",
      "{'index': 1, 'Title': 'Fish Instead Have', 'Genre': 'Horror', 'Premiere': 'May 11, 2022', 'Runtime': 136, 'IMDB_Score': 1.0, 'Language': 'English'}\n",
      "{'index': 2, 'Title': 'American Physical Visit', 'Genre': 'Action', 'Premiere': 'April 05, 2020', 'Runtime': 107, 'IMDB_Score': 4.4, 'Language': 'English'}\n",
      "{'index': 3, 'Title': 'Season Nor Dog', 'Genre': 'Romance', 'Premiere': 'August 11, 2022', 'Runtime': 68, 'IMDB_Score': 2.0, 'Language': 'English'}\n",
      "..{'index': 0, 'Title': 'Practice Minute Note', 'Genre': 'Action', 'Premiere': 'July 27, 2022', 'Runtime': 122, 'IMDB_Score': 3.9, 'Language': 'Hindi'}\n",
      "{'index': 1, 'Title': 'Avoid Those Spend', 'Genre': 'Drama', 'Premiere': 'January 26, 2020', 'Runtime': 72, 'IMDB_Score': 2.6, 'Language': 'Spanish'}\n",
      "{'index': 2, 'Title': 'Item Hotel Similar', 'Genre': 'Romance', 'Premiere': 'August 11, 2020', 'Runtime': 53, 'IMDB_Score': 3.5, 'Language': 'Chinese'}\n",
      "{'index': 3, 'Title': 'Happen Election Property', 'Genre': 'Horror', 'Premiere': 'April 04, 2020', 'Runtime': 144, 'IMDB_Score': 1.1, 'Language': 'Italian'}\n",
      "..{'index': 0, 'Title': 'Husband Child Mission', 'Genre': 'Drama', 'Premiere': 'January 10, 2023', 'Runtime': 112, 'IMDB_Score': 4.1, 'Language': 'English'}\n",
      "{'index': 1, 'Title': 'Single Leader Whether', 'Genre': 'Comedy', 'Premiere': 'December 25, 2022', 'Runtime': 75, 'IMDB_Score': 3.6, 'Language': 'English'}\n",
      "{'index': 2, 'Title': 'Imagine Name Visit', 'Genre': 'Action', 'Premiere': 'March 07, 2020', 'Runtime': 117, 'IMDB_Score': 4.4, 'Language': 'English'}\n",
      "{'index': 3, 'Title': 'Without Structure Student', 'Genre': 'Thriller', 'Premiere': 'August 05, 2020', 'Runtime': 73, 'IMDB_Score': 2.0, 'Language': 'Spanish'}\n",
      "..{'index': 0, 'Title': 'Popular Place Hour', 'Genre': 'Action', 'Premiere': 'August 03, 2021', 'Runtime': 116, 'IMDB_Score': 3.4, 'Language': 'English'}\n",
      "{'index': 1, 'Title': 'Building Senior Civil', 'Genre': 'Romance', 'Premiere': 'November 25, 2020', 'Runtime': 110, 'IMDB_Score': 4.6, 'Language': 'Hindi'}\n",
      "{'index': 2, 'Title': 'Develop Take Charge', 'Genre': 'Horror', 'Premiere': 'October 18, 2021', 'Runtime': 112, 'IMDB_Score': 5.0, 'Language': 'Chinese'}\n",
      "{'index': 3, 'Title': 'Civil Push Way', 'Genre': 'Comedy', 'Premiere': 'January 13, 2023', 'Runtime': 75, 'IMDB_Score': 2.5, 'Language': 'Chinese'}\n",
      "..{'index': 0, 'Title': 'Add Challenge But', 'Genre': 'Horror', 'Premiere': 'June 01, 2021', 'Runtime': 56, 'IMDB_Score': 4.6, 'Language': 'English'}\n",
      "{'index': 1, 'Title': 'Write Step Beat', 'Genre': 'Documentary', 'Premiere': 'February 06, 2020', 'Runtime': 81, 'IMDB_Score': 2.3, 'Language': 'Chinese'}\n",
      "{'index': 2, 'Title': 'Yard Force Product', 'Genre': 'Horror', 'Premiere': 'December 25, 2022', 'Runtime': 116, 'IMDB_Score': 4.5, 'Language': 'Spanish'}\n",
      "{'index': 3, 'Title': 'Politics Ask Strategy', 'Genre': 'Action', 'Premiere': 'September 24, 2021', 'Runtime': 97, 'IMDB_Score': 2.0, 'Language': 'Spanish'}\n",
      "..{'index': 0, 'Title': 'Notice Far Month', 'Genre': 'Romance', 'Premiere': 'April 12, 2021', 'Runtime': 108, 'IMDB_Score': 1.6, 'Language': 'Chinese'}\n",
      "{'index': 1, 'Title': 'Just People Direction', 'Genre': 'Thriller', 'Premiere': 'September 16, 2021', 'Runtime': 84, 'IMDB_Score': 2.5, 'Language': 'Hindi'}\n",
      "{'index': 2, 'Title': 'Major New Land', 'Genre': 'Horror', 'Premiere': 'April 02, 2021', 'Runtime': 50, 'IMDB_Score': 3.7, 'Language': 'Italian'}\n",
      "{'index': 3, 'Title': 'Score Hundred Young', 'Genre': 'Documentary', 'Premiere': 'September 29, 2020', 'Runtime': 144, 'IMDB_Score': 3.8, 'Language': 'Chinese'}\n",
      "..{'index': 0, 'Title': 'Tonight Member Size', 'Genre': 'Horror', 'Premiere': 'January 20, 2021', 'Runtime': 72, 'IMDB_Score': 1.5, 'Language': 'Spanish'}\n",
      "{'index': 1, 'Title': 'Budget Activity Ahead', 'Genre': 'Drama', 'Premiere': 'November 28, 2021', 'Runtime': 90, 'IMDB_Score': 1.1, 'Language': 'Japanese'}\n",
      "{'index': 2, 'Title': 'Need Week Though', 'Genre': 'Romance', 'Premiere': 'March 03, 2021', 'Runtime': 54, 'IMDB_Score': 1.7, 'Language': 'Japanese'}\n",
      "{'index': 3, 'Title': 'Everyone Modern Next', 'Genre': 'Action', 'Premiere': 'May 15, 2022', 'Runtime': 124, 'IMDB_Score': 1.7, 'Language': 'Hindi'}\n",
      "..{'index': 0, 'Title': 'Action People Put', 'Genre': 'Drama', 'Premiere': 'August 25, 2022', 'Runtime': 62, 'IMDB_Score': 1.8, 'Language': 'Hindi'}\n",
      "{'index': 1, 'Title': 'Rather Chance Set', 'Genre': 'Horror', 'Premiere': 'September 10, 2022', 'Runtime': 65, 'IMDB_Score': 3.1, 'Language': 'Chinese'}\n",
      "{'index': 2, 'Title': 'Friend Agreement Dog', 'Genre': 'Comedy', 'Premiere': 'February 18, 2022', 'Runtime': 71, 'IMDB_Score': 2.1, 'Language': 'Spanish'}\n",
      "{'index': 3, 'Title': 'Talk Treatment Short', 'Genre': 'Comedy', 'Premiere': 'July 28, 2022', 'Runtime': 63, 'IMDB_Score': 2.4, 'Language': 'Japanese'}\n",
      "..{'index': 0, 'Title': 'Offer Look You', 'Genre': 'Drama', 'Premiere': 'May 07, 2022', 'Runtime': 83, 'IMDB_Score': 2.3, 'Language': 'Spanish'}\n",
      "{'index': 1, 'Title': 'Three I Yourself', 'Genre': 'Documentary', 'Premiere': 'February 01, 2022', 'Runtime': 73, 'IMDB_Score': 4.6, 'Language': 'Hindi'}\n",
      "{'index': 2, 'Title': 'Answer Government Name', 'Genre': 'Drama', 'Premiere': 'October 30, 2020', 'Runtime': 99, 'IMDB_Score': 2.0, 'Language': 'Italian'}\n",
      "{'index': 3, 'Title': 'Box Blood Together', 'Genre': 'Action', 'Premiere': 'February 27, 2022', 'Runtime': 59, 'IMDB_Score': 4.6, 'Language': 'Chinese'}\n",
      "..{'index': 0, 'Title': 'Its Of Audience', 'Genre': 'Comedy', 'Premiere': 'July 07, 2022', 'Runtime': 120, 'IMDB_Score': 2.2, 'Language': 'Italian'}\n",
      "{'index': 1, 'Title': 'Decade Speech Continue', 'Genre': 'Action', 'Premiere': 'October 21, 2020', 'Runtime': 142, 'IMDB_Score': 2.6, 'Language': 'Chinese'}\n",
      "{'index': 2, 'Title': 'Career Road Four', 'Genre': 'Mystery', 'Premiere': 'July 08, 2021', 'Runtime': 146, 'IMDB_Score': 3.0, 'Language': 'Italian'}\n",
      "{'index': 3, 'Title': 'Group Also Inside', 'Genre': 'Horror', 'Premiere': 'December 04, 2022', 'Runtime': 66, 'IMDB_Score': 3.2, 'Language': 'Spanish'}\n",
      "..{'index': 0, 'Title': 'Degree If Whatever', 'Genre': 'Action', 'Premiere': 'March 20, 2022', 'Runtime': 145, 'IMDB_Score': 3.3, 'Language': 'Spanish'}\n",
      "{'index': 1, 'Title': 'Protect Any Water', 'Genre': 'Documentary', 'Premiere': 'June 04, 2021', 'Runtime': 59, 'IMDB_Score': 3.3, 'Language': 'Italian'}\n",
      "{'index': 2, 'Title': 'Him After Travel', 'Genre': 'Documentary', 'Premiere': 'June 10, 2020', 'Runtime': 138, 'IMDB_Score': 2.4, 'Language': 'English'}\n",
      "{'index': 3, 'Title': 'Every Involve Describe', 'Genre': 'Horror', 'Premiere': 'May 13, 2021', 'Runtime': 84, 'IMDB_Score': 2.3, 'Language': 'Italian'}\n",
      "..{'index': 0, 'Title': 'Watch Use Add', 'Genre': 'Horror', 'Premiere': 'August 14, 2022', 'Runtime': 95, 'IMDB_Score': 3.3, 'Language': 'Chinese'}\n",
      "{'index': 1, 'Title': 'Perhaps Series Become', 'Genre': 'Romance', 'Premiere': 'January 21, 2021', 'Runtime': 93, 'IMDB_Score': 2.0, 'Language': 'Chinese'}\n",
      "{'index': 2, 'Title': 'Chair Current Reflect', 'Genre': 'Documentary', 'Premiere': 'January 07, 2022', 'Runtime': 102, 'IMDB_Score': 1.2, 'Language': 'Chinese'}\n",
      "{'index': 3, 'Title': 'Suffer Choice Political', 'Genre': 'Horror', 'Premiere': 'May 21, 2020', 'Runtime': 146, 'IMDB_Score': 2.7, 'Language': 'Chinese'}\n",
      "..{'index': 0, 'Title': 'Government Feel Environment', 'Genre': 'Romance', 'Premiere': 'October 08, 2022', 'Runtime': 99, 'IMDB_Score': 4.8, 'Language': 'Japanese'}\n",
      "{'index': 1, 'Title': 'Decade Minute Picture', 'Genre': 'Drama', 'Premiere': 'January 23, 2022', 'Runtime': 103, 'IMDB_Score': 2.3, 'Language': 'Hindi'}\n",
      "{'index': 2, 'Title': 'Whether Fall Thus', 'Genre': 'Horror', 'Premiere': 'December 28, 2020', 'Runtime': 70, 'IMDB_Score': 4.9, 'Language': 'Spanish'}\n",
      "{'index': 3, 'Title': 'Cost Whom Huge', 'Genre': 'Drama', 'Premiere': 'February 06, 2020', 'Runtime': 120, 'IMDB_Score': 4.8, 'Language': 'Hindi'}\n",
      "..{'index': 0, 'Title': 'Cultural Major Hundred', 'Genre': 'Documentary', 'Premiere': 'September 16, 2022', 'Runtime': 115, 'IMDB_Score': 3.6, 'Language': 'Hindi'}\n",
      "{'index': 1, 'Title': 'Space Several Economic', 'Genre': 'Comedy', 'Premiere': 'November 03, 2022', 'Runtime': 90, 'IMDB_Score': 1.3, 'Language': 'Spanish'}\n",
      "{'index': 2, 'Title': 'Often Seem Make', 'Genre': 'Thriller', 'Premiere': 'March 22, 2021', 'Runtime': 98, 'IMDB_Score': 4.4, 'Language': 'Chinese'}\n",
      "{'index': 3, 'Title': 'As Production Suggest', 'Genre': 'Thriller', 'Premiere': 'December 14, 2021', 'Runtime': 91, 'IMDB_Score': 1.6, 'Language': 'Italian'}\n",
      "..{'index': 0, 'Title': 'Particular Continue Sure', 'Genre': 'Drama', 'Premiere': 'June 19, 2022', 'Runtime': 95, 'IMDB_Score': 3.2, 'Language': 'Chinese'}\n",
      "{'index': 1, 'Title': 'All Many Alone', 'Genre': 'Action', 'Premiere': 'October 07, 2022', 'Runtime': 95, 'IMDB_Score': 2.9, 'Language': 'English'}\n",
      "{'index': 2, 'Title': 'Family Next Pm', 'Genre': 'Mystery', 'Premiere': 'June 26, 2022', 'Runtime': 136, 'IMDB_Score': 3.1, 'Language': 'English'}\n",
      "{'index': 3, 'Title': 'Recently Western And', 'Genre': 'Action', 'Premiere': 'February 20, 2020', 'Runtime': 79, 'IMDB_Score': 2.6, 'Language': 'Hindi'}\n",
      "..{'index': 0, 'Title': 'Music Who Throw', 'Genre': 'Drama', 'Premiere': 'May 21, 2020', 'Runtime': 143, 'IMDB_Score': 4.0, 'Language': 'Spanish'}\n",
      "{'index': 1, 'Title': 'Specific Subject Building', 'Genre': 'Thriller', 'Premiere': 'September 26, 2022', 'Runtime': 65, 'IMDB_Score': 3.3, 'Language': 'Hindi'}\n",
      "{'index': 2, 'Title': 'House Result House', 'Genre': 'Comedy', 'Premiere': 'December 25, 2021', 'Runtime': 80, 'IMDB_Score': 2.1, 'Language': 'Hindi'}\n",
      "{'index': 3, 'Title': 'Election Lot Participant', 'Genre': 'Action', 'Premiere': 'April 23, 2020', 'Runtime': 102, 'IMDB_Score': 3.5, 'Language': 'Spanish'}\n",
      "..{'index': 0, 'Title': 'Ground Perhaps Whatever', 'Genre': 'Mystery', 'Premiere': 'April 06, 2022', 'Runtime': 58, 'IMDB_Score': 1.8, 'Language': 'Italian'}\n",
      "{'index': 1, 'Title': 'Series Natural Far', 'Genre': 'Documentary', 'Premiere': 'May 30, 2022', 'Runtime': 111, 'IMDB_Score': 1.6, 'Language': 'Japanese'}\n",
      "{'index': 2, 'Title': 'Accept Office News', 'Genre': 'Documentary', 'Premiere': 'December 31, 2021', 'Runtime': 134, 'IMDB_Score': 1.2, 'Language': 'English'}\n",
      "{'index': 3, 'Title': 'Newspaper Learn Pull', 'Genre': 'Romance', 'Premiere': 'October 23, 2020', 'Runtime': 71, 'IMDB_Score': 1.3, 'Language': 'Japanese'}\n",
      "..{'index': 0, 'Title': 'Foot Investment Explain', 'Genre': 'Thriller', 'Premiere': 'May 02, 2022', 'Runtime': 90, 'IMDB_Score': 4.2, 'Language': 'Japanese'}\n",
      "{'index': 1, 'Title': 'They Economic Million', 'Genre': 'Documentary', 'Premiere': 'May 07, 2021', 'Runtime': 128, 'IMDB_Score': 3.4, 'Language': 'English'}\n",
      "{'index': 2, 'Title': 'Business Fund Own', 'Genre': 'Mystery', 'Premiere': 'February 02, 2021', 'Runtime': 92, 'IMDB_Score': 4.2, 'Language': 'Chinese'}\n",
      "{'index': 3, 'Title': 'New He Gas', 'Genre': 'Drama', 'Premiere': 'July 14, 2020', 'Runtime': 59, 'IMDB_Score': 1.3, 'Language': 'English'}\n",
      "..{'index': 0, 'Title': 'Rise Small Pretty', 'Genre': 'Documentary', 'Premiere': 'May 12, 2021', 'Runtime': 70, 'IMDB_Score': 2.0, 'Language': 'Italian'}\n",
      "{'index': 1, 'Title': 'Region Room Attack', 'Genre': 'Comedy', 'Premiere': 'April 16, 2022', 'Runtime': 110, 'IMDB_Score': 2.0, 'Language': 'Italian'}\n",
      "{'index': 2, 'Title': 'Now Simply Interest', 'Genre': 'Drama', 'Premiere': 'December 27, 2022', 'Runtime': 108, 'IMDB_Score': 3.2, 'Language': 'Japanese'}\n",
      "{'index': 3, 'Title': 'Growth Too Cultural', 'Genre': 'Mystery', 'Premiere': 'January 29, 2020', 'Runtime': 77, 'IMDB_Score': 1.5, 'Language': 'Chinese'}\n",
      "..{'index': 0, 'Title': 'Large Can Break', 'Genre': 'Comedy', 'Premiere': 'February 13, 2021', 'Runtime': 59, 'IMDB_Score': 1.8, 'Language': 'Chinese'}\n",
      "{'index': 1, 'Title': 'Movement Lose Usually', 'Genre': 'Action', 'Premiere': 'July 12, 2020', 'Runtime': 89, 'IMDB_Score': 4.5, 'Language': 'Chinese'}\n",
      "{'index': 2, 'Title': 'Effect Hospital Discuss', 'Genre': 'Comedy', 'Premiere': 'May 07, 2021', 'Runtime': 69, 'IMDB_Score': 4.0, 'Language': 'Chinese'}\n",
      "{'index': 3, 'Title': 'Create Rest Enter', 'Genre': 'Action', 'Premiere': 'January 02, 2022', 'Runtime': 90, 'IMDB_Score': 3.0, 'Language': 'Hindi'}\n",
      "..{'index': 0, 'Title': 'Hospital Little Service', 'Genre': 'Action', 'Premiere': 'March 08, 2021', 'Runtime': 60, 'IMDB_Score': 2.0, 'Language': 'Spanish'}\n",
      "{'index': 1, 'Title': 'He Wrong Sea', 'Genre': 'Romance', 'Premiere': 'February 08, 2022', 'Runtime': 80, 'IMDB_Score': 1.0, 'Language': 'Japanese'}\n",
      "{'index': 2, 'Title': 'By Cold Brother', 'Genre': 'Mystery', 'Premiere': 'June 22, 2022', 'Runtime': 104, 'IMDB_Score': 3.8, 'Language': 'Hindi'}\n",
      "{'index': 3, 'Title': 'Take Main Discussion', 'Genre': 'Drama', 'Premiere': 'September 07, 2021', 'Runtime': 110, 'IMDB_Score': 4.5, 'Language': 'Italian'}\n",
      "..{'index': 0, 'Title': 'Tonight Expect Phone', 'Genre': 'Thriller', 'Premiere': 'August 23, 2022', 'Runtime': 86, 'IMDB_Score': 4.1, 'Language': 'Hindi'}\n",
      "{'index': 1, 'Title': 'Turn Likely Account', 'Genre': 'Comedy', 'Premiere': 'October 02, 2021', 'Runtime': 74, 'IMDB_Score': 1.9, 'Language': 'Hindi'}\n",
      "{'index': 2, 'Title': 'Summer Energy Notice', 'Genre': 'Thriller', 'Premiere': 'April 28, 2021', 'Runtime': 141, 'IMDB_Score': 3.1, 'Language': 'Japanese'}\n",
      "{'index': 3, 'Title': 'Despite Fish Task', 'Genre': 'Mystery', 'Premiere': 'August 18, 2021', 'Runtime': 74, 'IMDB_Score': 1.4, 'Language': 'Hindi'}\n",
      "..{'index': 0, 'Title': 'Practice Understand Weight', 'Genre': 'Documentary', 'Premiere': 'August 21, 2022', 'Runtime': 65, 'IMDB_Score': 3.5, 'Language': 'English'}\n",
      "{'index': 1, 'Title': 'Court Among Task', 'Genre': 'Drama', 'Premiere': 'May 02, 2020', 'Runtime': 114, 'IMDB_Score': 3.7, 'Language': 'Spanish'}\n",
      "{'index': 2, 'Title': 'Prevent Save Laugh', 'Genre': 'Thriller', 'Premiere': 'August 18, 2021', 'Runtime': 78, 'IMDB_Score': 4.3, 'Language': 'Italian'}\n",
      "{'index': 3, 'Title': 'Avoid Drop Each', 'Genre': 'Drama', 'Premiere': 'June 21, 2020', 'Runtime': 51, 'IMDB_Score': 3.6, 'Language': 'Italian'}\n",
      ".."
     ]
    }
   ],
   "source": [
    "from kafka import KafkaConsumer\n",
    "from json import loads\n",
    "import pandas as pd\n",
    "\n",
    "consumer = KafkaConsumer(\n",
    "    csv_files_topic,\n",
    "    bootstrap_servers=['localhost:9092'],\n",
    "    auto_offset_reset='earliest',\n",
    "    enable_auto_commit=True,\n",
    "    value_deserializer=lambda x: loads(x.decode('utf-8')))\n",
    "for message in consumer:\n",
    "    fn = message.value['filename']\n",
    "    # print(fn)\n",
    "    df = pd.read_table(fn, sep=\",\")\n",
    "    df = df.reset_index()\n",
    "    [print(row_dict) for row_dict in df.to_dict(orient=\"records\")]\n",
    "    print('.', end='.')\n",
    "    [producer.send(DER_TOPIC, value=row_dict) for row_dict in df.to_dict(orient=\"records\")]"
   ],
   "metadata": {
    "collapsed": false,
    "pycharm": {
     "is_executing": true
    }
   }
  },
  {
   "cell_type": "code",
   "execution_count": null,
   "outputs": [],
   "source": [
    "def process(data=None):\n",
    "    sleep_duration = int(random.randint(20, 100) / 60)\n",
    "    print(f'z' * sleep_duration, end='')\n",
    "    sleep(sleep_duration)\n",
    "    print(f'z' * sleep_duration, end='')\n",
    "\n",
    "\n",
    "process()"
   ],
   "metadata": {
    "collapsed": false,
    "pycharm": {
     "is_executing": true
    }
   }
  },
  {
   "cell_type": "code",
   "execution_count": null,
   "outputs": [],
   "source": [
    "\n",
    "\n",
    "DERConsumer = KafkaConsumer(\n",
    "    DER_TOPIC,\n",
    "    bootstrap_servers=['localhost:9092'],\n",
    "    auto_offset_reset='earliest',\n",
    "    enable_auto_commit=True,\n",
    "    value_deserializer=lambda x: loads(x.decode('utf-8')))\n",
    "for message in DERConsumer:\n",
    "    data = message.value\n",
    "    print('.', end='')\n",
    "    process(data)\n"
   ],
   "metadata": {
    "collapsed": false,
    "pycharm": {
     "is_executing": true
    }
   }
  },
  {
   "cell_type": "code",
   "execution_count": null,
   "outputs": [],
   "source": [],
   "metadata": {
    "collapsed": false,
    "pycharm": {
     "is_executing": true
    }
   }
  }
 ],
 "metadata": {
  "kernelspec": {
   "display_name": "Python 3",
   "language": "python",
   "name": "python3"
  },
  "language_info": {
   "codemirror_mode": {
    "name": "ipython",
    "version": 2
   },
   "file_extension": ".py",
   "mimetype": "text/x-python",
   "name": "python",
   "nbconvert_exporter": "python",
   "pygments_lexer": "ipython2",
   "version": "2.7.6"
  }
 },
 "nbformat": 4,
 "nbformat_minor": 0
}
